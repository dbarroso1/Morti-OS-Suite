{
 "cells": [
  {
   "cell_type": "code",
   "execution_count": 1,
   "metadata": {},
   "outputs": [],
   "source": [
    "class Player:\n",
    "        x_pos = 1\n",
    "        y_pos = 1"
   ]
  },
  {
   "cell_type": "code",
   "execution_count": 2,
   "metadata": {},
   "outputs": [],
   "source": [
    "def console(con):\n",
    "    output = con\n",
    "    print('#(NPC): {}'.format(output))"
   ]
  },
  {
   "cell_type": "code",
   "execution_count": 3,
   "metadata": {},
   "outputs": [],
   "source": [
    "def mvmt(command):\n",
    "    phrase_com = command\n",
    "\n",
    "    if phrase_com == ['up']:\n",
    "        Player.x_pos += 1\n",
    "        console('you moved one block North')\n",
    "    if phrase_com == ['down']:\n",
    "        Player.x_pos -= 1\n",
    "        console('you moved one block South')\n",
    "    if phrase_com == ['left']:\n",
    "        Player.y_pos += 1\n",
    "        console('you moved one block West')\n",
    "    if phrase_com == ['right']:\n",
    "        Player.y_pos -= 1\n",
    "        console('you moved one block East')\n",
    "    return\n",
    "def getPosition():\n",
    "    if Player.x_pos == 2 and Player.y_pos == 2:\n",
    "            console('You currently are at {}'.format(pos))\n",
    "            console('You See a tree in the middle')\n",
    "    else:        \n",
    "        console('You currently are at {}'.format(pos))\n",
    "    return"
   ]
  },
  {
   "cell_type": "code",
   "execution_count": 4,
   "metadata": {},
   "outputs": [],
   "source": [
    "def getCommands(inpu = None):\n",
    "    phrase = inpu.split()\n",
    "    phrase_length = len(phrase)\n",
    "        \n",
    "    for word in phrase:\n",
    "        if word == 'move':\n",
    "            word_index= phrase.index(word) # Gets the position of the Command word inside Phrase\n",
    "            phrase.remove(word[:])\n",
    "            command = phrase[-word_index:] # Gets the word after the initial command word\n",
    "            mvmt(command)\n",
    "        \n",
    "        if word == 'position' or 'pos' or 'look':\n",
    "                getPosition()  "
   ]
  },
  {
   "cell_type": "code",
   "execution_count": 6,
   "metadata": {},
   "outputs": [
    {
     "name": "stdout",
     "output_type": "stream",
     "text": [
      "###### The Game Begins ######\n",
      "You find yourself in a dark room\n",
      "There is a door in front of you\n",
      "-- type \"help\" to see list of commands --\n",
      "#(You): ?\n",
      "\u001b[31m ############### HELP ############### \n",
      "Movement: \"move [up,down,left,right]\"\n",
      "Position: \"Lok, Po, Posion\"\n",
      "Quit: \"exit\" \u001b[0m\n",
      "#(NPC): You currently are at [1, 1]\n",
      "#(You): position\n",
      "\u001b[31m ############### HELP ############### \n",
      "Movement: \"move [up,down,left,right]\"\n",
      "Position: \"Lok, Po, Posion\"\n",
      "Quit: \"exit\" \u001b[0m\n",
      "#(NPC): You currently are at [1, 1]\n",
      "#(You): exit\n",
      "#(NPC): Goodbye, for now\n"
     ]
    }
   ],
   "source": [
    "print('###### The Game Begins ######')\n",
    "print('You find yourself in a dark room'+'\\n'+'There is a door in front of you')\n",
    "print('-- type \"help\" to see list of commands --')\n",
    "\n",
    "while True:               \n",
    "    inp = input(\"#(You): \")\n",
    "    pos = [Player.x_pos,Player.y_pos]\n",
    "    \n",
    "    if inp == 'exit':\n",
    "        console('Goodbye, for now')\n",
    "        break\n",
    "    if inp == 'help' or '?':\n",
    "            print('\\x1b[31m ############### HELP ############### ')\n",
    "            print('Movement: \"move [up,down,left,right]\"')\n",
    "            print('Position: \"Lok, Po, Posion\"')\n",
    "            print('Quit: \"exit\" \\x1b[0m')\n",
    "            \n",
    "    getCommands(inp)"
   ]
  },
  {
   "cell_type": "code",
   "execution_count": null,
   "metadata": {},
   "outputs": [],
   "source": []
  }
 ],
 "metadata": {
  "kernelspec": {
   "display_name": "Python 3",
   "language": "python",
   "name": "python3"
  },
  "language_info": {
   "codemirror_mode": {
    "name": "ipython",
    "version": 3
   },
   "file_extension": ".py",
   "mimetype": "text/x-python",
   "name": "python",
   "nbconvert_exporter": "python",
   "pygments_lexer": "ipython3",
   "version": "3.5.4"
  }
 },
 "nbformat": 4,
 "nbformat_minor": 2
}
