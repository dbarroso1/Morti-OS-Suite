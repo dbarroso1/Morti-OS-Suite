{
 "cells": [
  {
   "cell_type": "markdown",
   "metadata": {},
   "source": [
    "Main Goals:\n",
    "- RTC (Relationship trained Comunications):\n",
    "    - Natural Language Deep Learning Chatbot. \n",
    "    - Natural Language Generation (Audio or Text-to-Speech)\n",
    "    - EQE - Emotion Engine for responding in text with emotional reinforcement\n",
    "    - Text Tasks (Search this, Make this Calculation, etc...)\n",
    "    - Digital Assitant:\n",
    "        - Reminder Notification\n",
    "        - Home Automation Asssistance\n",
    "        - Syncronization of information across at least 3 devices (PC, MAC, Android)\n",
    "- Web Interface (Django)\n",
    "    - Chatroom For Chatbot Communications\n",
    "    - Training Page, where i can use a previously trained model to create test data for the Neural network to Process in a later time (or automatically at a scheduled time)\n",
    "    - LSI (Live Simulation Interface):\n",
    "        - Unity Based 2D Interface, to simulate a Morti Entity\n",
    "        - Chat Interface/ Vocal Generation\n",
    "            - Music Generation (needs to work with lsi, so if he gets board and wants to sing he can generate music on the fly)\n",
    "        - Physical Brain: Deep Reinforced Learning engine that processes mortis 3D world, and Physical Variables (like Health, Hunger, Energy, etc...)\n",
    "        \n",
    "Specific Tasks:\n",
    "- Calculate how many cars i encounter on the road in a given day. \n",
    "- Synthesize Poems from Emotional context\n",
    "    - with poem, generate Audible Song"
   ]
  },
  {
   "cell_type": "markdown",
   "metadata": {},
   "source": [
    "Refrences:\n",
    "- [Gensim](https://radimrehurek.com/gensim/index.html)"
   ]
  },
  {
   "cell_type": "code",
   "execution_count": null,
   "metadata": {},
   "outputs": [],
   "source": []
  }
 ],
 "metadata": {
  "kernelspec": {
   "display_name": "Python 3",
   "language": "python",
   "name": "python3"
  },
  "language_info": {
   "codemirror_mode": {
    "name": "ipython",
    "version": 3
   },
   "file_extension": ".py",
   "mimetype": "text/x-python",
   "name": "python",
   "nbconvert_exporter": "python",
   "pygments_lexer": "ipython3",
   "version": "3.5.4"
  }
 },
 "nbformat": 4,
 "nbformat_minor": 2
}
