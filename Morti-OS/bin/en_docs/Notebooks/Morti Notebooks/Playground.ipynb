{
 "cells": [
  {
   "cell_type": "code",
   "execution_count": 2,
   "metadata": {},
   "outputs": [],
   "source": [
    "import nltk \n",
    "from nltk.tokenize import word_tokenize\n",
    "import numpy as np\n",
    "import matplotlib.pyplot as plt\n",
    "%matplotlib inline"
   ]
  },
  {
   "cell_type": "code",
   "execution_count": 3,
   "metadata": {},
   "outputs": [
    {
     "ename": "SyntaxError",
     "evalue": "invalid syntax (<ipython-input-3-4830321503a5>, line 72)",
     "output_type": "error",
     "traceback": [
      "\u001b[1;36m  File \u001b[1;32m\"<ipython-input-3-4830321503a5>\"\u001b[1;36m, line \u001b[1;32m72\u001b[0m\n\u001b[1;33m    print \"Blit = %s, average FPS: %.2f\" % (\u001b[0m\n\u001b[1;37m                                       ^\u001b[0m\n\u001b[1;31mSyntaxError\u001b[0m\u001b[1;31m:\u001b[0m invalid syntax\n"
     ]
    }
   ],
   "source": [
    "import numpy as np\n",
    "import time\n",
    "import matplotlib\n",
    "matplotlib.use('GTKAgg')\n",
    "from matplotlib import pyplot as plt\n",
    "\n",
    "\n",
    "def randomwalk(dims=(256, 256), n=20, sigma=5, alpha=0.95, seed=1):\n",
    "    \"\"\" A simple random walk with memory \"\"\"\n",
    "\n",
    "    r, c = dims\n",
    "    gen = np.random.RandomState(seed)\n",
    "    pos = gen.rand(2, n) * ((r,), (c,))\n",
    "    old_delta = gen.randn(2, n) * sigma\n",
    "\n",
    "    while True:\n",
    "        delta = (1. - alpha) * gen.randn(2, n) * sigma + alpha * old_delta\n",
    "        pos += delta\n",
    "        for ii in xrange(n):\n",
    "            if not (0. <= pos[0, ii] < r):\n",
    "                pos[0, ii] = abs(pos[0, ii] % r)\n",
    "            if not (0. <= pos[1, ii] < c):\n",
    "                pos[1, ii] = abs(pos[1, ii] % c)\n",
    "        old_delta = delta\n",
    "        yield pos\n",
    "\n",
    "\n",
    "def run(niter=1000, doblit=True):\n",
    "    \"\"\"\n",
    "    Display the simulation using matplotlib, optionally using blit for speed\n",
    "    \"\"\"\n",
    "\n",
    "    fig, ax = plt.subplots(1, 1)\n",
    "    ax.set_aspect('equal')\n",
    "    ax.set_xlim(0, 255)\n",
    "    ax.set_ylim(0, 255)\n",
    "    ax.hold(True)\n",
    "    rw = randomwalk()\n",
    "    x, y = rw.next()\n",
    "\n",
    "    plt.show(False)\n",
    "    plt.draw()\n",
    "\n",
    "    if doblit:\n",
    "        # cache the background\n",
    "        background = fig.canvas.copy_from_bbox(ax.bbox)\n",
    "\n",
    "    points = ax.plot(x, y, 'o')[0]\n",
    "    tic = time.time()\n",
    "\n",
    "    for ii in xrange(niter):\n",
    "\n",
    "        # update the xy data\n",
    "        x, y = rw.next()\n",
    "        points.set_data(x, y)\n",
    "\n",
    "        if doblit:\n",
    "            # restore background\n",
    "            fig.canvas.restore_region(background)\n",
    "\n",
    "            # redraw just the points\n",
    "            ax.draw_artist(points)\n",
    "\n",
    "            # fill in the axes rectangle\n",
    "            fig.canvas.blit(ax.bbox)\n",
    "\n",
    "        else:\n",
    "            # redraw everything\n",
    "            fig.canvas.draw()\n",
    "\n",
    "    plt.close(fig)\n",
    "    print \"Blit = %s, average FPS: %.2f\" % (\n",
    "        str(doblit), niter / (time.time() - tic))\n",
    "\n",
    "if __name__ == '__main__':\n",
    "    run(doblit=False)\n",
    "    run(doblit=True)"
   ]
  },
  {
   "cell_type": "code",
   "execution_count": null,
   "metadata": {},
   "outputs": [],
   "source": []
  }
 ],
 "metadata": {
  "kernelspec": {
   "display_name": "Python 3",
   "language": "python",
   "name": "python3"
  },
  "language_info": {
   "codemirror_mode": {
    "name": "ipython",
    "version": 3
   },
   "file_extension": ".py",
   "mimetype": "text/x-python",
   "name": "python",
   "nbconvert_exporter": "python",
   "pygments_lexer": "ipython3",
   "version": "3.5.4"
  }
 },
 "nbformat": 4,
 "nbformat_minor": 2
}
