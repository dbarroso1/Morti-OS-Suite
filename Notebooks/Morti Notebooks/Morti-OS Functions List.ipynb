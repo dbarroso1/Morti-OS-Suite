{
 "cells": [
  {
   "cell_type": "markdown",
   "metadata": {},
   "source": [
    "# Commands\n",
    "How will Morti know what is command or Conversation:\n",
    " - Posibility 1:\n",
    "     - Catch-All Term/Symbol\n",
    "         - Example: `!Search <term>` the `!` tells the bot to run the function `Search` on the term you want to look up\n",
    "     - Requirments: `CatchAllTerm()` and `GoogleSearch()` functions. the Catch All Term Function is used to identify a Catch All Term. Then the inputs will be sent to the Term Function in this case a Google Search\n",
    " \n",
    " - Posibility 2:\n",
    "     - Question Answer Format:\n",
    "         - Example: Get The Functionality you need by asking morti, start by asking if he can help, then activate the Listen to Command Functions"
   ]
  },
  {
   "cell_type": "code",
   "execution_count": null,
   "metadata": {},
   "outputs": [],
   "source": []
  }
 ],
 "metadata": {
  "kernelspec": {
   "display_name": "Python 3",
   "language": "python",
   "name": "python3"
  },
  "language_info": {
   "codemirror_mode": {
    "name": "ipython",
    "version": 3
   },
   "file_extension": ".py",
   "mimetype": "text/x-python",
   "name": "python",
   "nbconvert_exporter": "python",
   "pygments_lexer": "ipython3",
   "version": "3.5.4"
  }
 },
 "nbformat": 4,
 "nbformat_minor": 2
}
