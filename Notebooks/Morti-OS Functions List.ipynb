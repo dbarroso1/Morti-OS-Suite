{
 "cells": [
  {
   "cell_type": "markdown",
   "metadata": {},
   "source": [
    "# Command Calling\n",
    "\n",
    "Curently to use a command we need to type one of the Activation Call words\n",
    " - `!Calc` make a calculations. it needs 3 variables, X, Y and Symbol\n",
    " - `!Search` Returns a Google Link with your Search"
   ]
  },
  {
   "cell_type": "code",
   "execution_count": 1,
   "metadata": {},
   "outputs": [],
   "source": [
    "import datetime # Used for Time Managment"
   ]
  },
  {
   "cell_type": "markdown",
   "metadata": {},
   "source": [
    "## Simple Calculator (Two Arguments Only)"
   ]
  },
  {
   "cell_type": "code",
   "execution_count": 2,
   "metadata": {},
   "outputs": [],
   "source": [
    "# Simple Calculator\n",
    "def simpleCalculator(x,y,symbol):    \n",
    "    \n",
    "    a_int = x\n",
    "    b_int = y\n",
    "    operator = symbol\n",
    "    \n",
    "    if operator == '-':\n",
    "        c_sum = float(a_int) - float(b_int)\n",
    "    elif operator == '+':\n",
    "        c_sum = float(a_int) + float(b_int)\n",
    "    elif operator == '*':\n",
    "        c_sum = float(a_int) * float(b_int)\n",
    "    elif operator == '/':\n",
    "        c_sum = float(a_int) / float(b_int)\n",
    "    elif operator == '^':\n",
    "        c_sum = float(a_int) ** float(b_int)\n",
    "        \n",
    "    print('Morti: ',c_sum)"
   ]
  },
  {
   "cell_type": "markdown",
   "metadata": {},
   "source": [
    "## Phrase Finder"
   ]
  },
  {
   "cell_type": "code",
   "execution_count": 3,
   "metadata": {},
   "outputs": [],
   "source": [
    "def phraseFinder(q_index):\n",
    "    now = datetime.datetime.now()\n",
    "    \n",
    "    # Find Calculation Phrase\n",
    "    if '!Calc' in q_index: \n",
    "        phrase_index = q_index.index('!Calc')\n",
    "        phrase_calc = q_index[phrase_index + 1:]\n",
    "        x_val = phrase_calc[0]\n",
    "        symb = phrase_calc[1]\n",
    "        y_val = phrase_calc[2]\n",
    "        calc = simpleCalculator(x_val,y_val,symb)\n",
    "    \n",
    "    # Find Search Phrase        \n",
    "    elif '!Search' in q_index: \n",
    "        phrase_index = q_index.index('!Search')\n",
    "        phrase_search = q_index[phrase_index + 1:]\n",
    "        query =  '+'.join(str(e) for e in phrase_search)\n",
    "        url = 'http://google.com/search?q={}'.format(query)\n",
    "        print('Morti: Check Here - ',url)\n",
    "    \n",
    "    # Get Time\n",
    "    elif '!Time' in q_index:\n",
    "        print('Morti: It is Curently: ',now.strftime(\"%H:%M %Y-%m-%d\"))\n",
    "\n",
    "    else:\n",
    "        print('Morti: Sorry, I dont Understand')"
   ]
  },
  {
   "cell_type": "markdown",
   "metadata": {},
   "source": [
    "## Questionare: Start Chat Session"
   ]
  },
  {
   "cell_type": "code",
   "execution_count": 4,
   "metadata": {},
   "outputs": [],
   "source": [
    "def Questionare():\n",
    "    while True:\n",
    "        question = input('You: ')\n",
    "        q_index = question.split()\n",
    "        if 'Bye!' in q_index:\n",
    "            print('Morti: Goodbye!')\n",
    "            break\n",
    "        else:\n",
    "            phraseFinder(q_index)"
   ]
  },
  {
   "cell_type": "code",
   "execution_count": 5,
   "metadata": {},
   "outputs": [
    {
     "name": "stdout",
     "output_type": "stream",
     "text": [
      "You: !Search Porhub\n",
      "Morti: Check Here -  http://google.com/search?q=Porhub\n",
      "You: !Calc 11.02 / 213.32\n",
      "Morti:  0.05165947871741984\n",
      "You: Bye!\n",
      "Morti: Goodbye!\n"
     ]
    }
   ],
   "source": [
    "Questionare()"
   ]
  },
  {
   "cell_type": "code",
   "execution_count": null,
   "metadata": {},
   "outputs": [],
   "source": []
  }
 ],
 "metadata": {
  "kernelspec": {
   "display_name": "Python 3",
   "language": "python",
   "name": "python3"
  },
  "language_info": {
   "codemirror_mode": {
    "name": "ipython",
    "version": 3
   },
   "file_extension": ".py",
   "mimetype": "text/x-python",
   "name": "python",
   "nbconvert_exporter": "python",
   "pygments_lexer": "ipython3",
   "version": "3.5.4"
  }
 },
 "nbformat": 4,
 "nbformat_minor": 2
}
