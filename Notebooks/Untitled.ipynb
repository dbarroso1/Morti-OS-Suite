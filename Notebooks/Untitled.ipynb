{
 "cells": [
  {
   "cell_type": "markdown",
   "metadata": {},
   "source": [
    "### Word Context Identifyer\n",
    "the WCI is a function that gets a word from a list of words, and scans them one by one.\n",
    "```python\n",
    "Phrase = \"Hey i am having a bad day\"\n",
    "\n",
    "[Hey][I]\n",
    "[Hey][I][am]\n",
    "[I][Am][Having]\n",
    "[Am][Having][a]\n",
    "[a][Bad][Day]\n",
    "[bad][day]\n",
    "[day]\n",
    "```\n",
    " - Fear → feeling of being afraid\n",
    " - Anger → feeling angry. A stronger word for anger is rage\n",
    " - Sadness → feeling sad. Other words are sorrow, grief (a stronger feeling, for example when someone has died)\n",
    " - Joy → feeling happy. Other words are happiness, gladness\n",
    " - Disgust → feeling something is wrong or nasty\n",
    " - Surprise → being unprepared for something\n",
    " - Trust → a positive emotion; admiration is stronger; acceptance is weaker.\n",
    " - Anticipation → in the sense of looking forward positively to something which is going to happen. Expectation is more neutral.\n"
   ]
  },
  {
   "cell_type": "code",
   "execution_count": 11,
   "metadata": {},
   "outputs": [],
   "source": [
    "word2Emote = {\"Hate\":\"NEG\",\"Love\":\"POS\"}\n",
    "class wordDict(object):\n",
    "    def __init__(self):\n",
    "        self.word = word\n",
    "        self.emote = emote"
   ]
  },
  {
   "cell_type": "code",
   "execution_count": 12,
   "metadata": {},
   "outputs": [
    {
     "data": {
      "text/plain": [
       "{'Hate': 'NEG', 'Love': 'POS'}"
      ]
     },
     "execution_count": 12,
     "metadata": {},
     "output_type": "execute_result"
    }
   ],
   "source": [
    "word2Emote"
   ]
  },
  {
   "cell_type": "code",
   "execution_count": null,
   "metadata": {},
   "outputs": [],
   "source": []
  },
  {
   "cell_type": "code",
   "execution_count": null,
   "metadata": {},
   "outputs": [],
   "source": []
  }
 ],
 "metadata": {
  "kernelspec": {
   "display_name": "Python 3",
   "language": "python",
   "name": "python3"
  },
  "language_info": {
   "codemirror_mode": {
    "name": "ipython",
    "version": 3
   },
   "file_extension": ".py",
   "mimetype": "text/x-python",
   "name": "python",
   "nbconvert_exporter": "python",
   "pygments_lexer": "ipython3",
   "version": "3.5.4"
  }
 },
 "nbformat": 4,
 "nbformat_minor": 2
}
