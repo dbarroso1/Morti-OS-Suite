{
 "cells": [
  {
   "cell_type": "code",
   "execution_count": 35,
   "metadata": {},
   "outputs": [],
   "source": [
    "import os, glob\n",
    "from pydub import AudioSegment\n",
    "from pydub.silence import split_on_silence\n",
    "from pydub.playback import play"
   ]
  },
  {
   "cell_type": "markdown",
   "metadata": {},
   "source": [
    "# Youtube Subtitle Pre-Processor"
   ]
  },
  {
   "cell_type": "code",
   "execution_count": 53,
   "metadata": {},
   "outputs": [],
   "source": [
    "# Transcript of Audio File to be formatted\n",
    "def sub_prepro(path):\n",
    "    \"\"\"Subtitle Pre Processor\"\"\"\n",
    "    \n",
    "    subtitles = path # path to subtitles\n",
    "    output_file = 'full_transcript.csv'    \n",
    "    time_stamp = '00:00:00:00:00:000'\n",
    "    \n",
    "    with open(subtitles, 'r') as transcript:\n",
    "        transcript_list=transcript.read().replace('\\n', ' +++$+++ ').replace(' --> ','-').replace(',','')\n",
    "        transcript_list=transcript_list.split(' +++$+++ ')\n",
    "\n",
    "    for i in transcript_list:\n",
    "        if len(i)== len(time_stamp):\n",
    "            transcript_list.remove(i)\n",
    "        if i == '':\n",
    "            i = transcript_list.index(i)\n",
    "            transcript_list[i] = '|'\n",
    "        if i == '|':\n",
    "            i = transcript_list.index(i)\n",
    "            transcript_list = '|'   \n",
    "            \n",
    "    #  This Outputs a VERY messy CSV File, you \n",
    "    # can go into the csv with Notepad++ and \n",
    "    # using 'Find and Replace' or Ctrl+F to \n",
    "    # clean up the file a bit better\n",
    "    with open(output_file, \"w\") as output:\n",
    "        output.write(str(transcript_list))"
   ]
  },
  {
   "cell_type": "code",
   "execution_count": 54,
   "metadata": {},
   "outputs": [],
   "source": [
    "sub_prepro('sm_transcript.txt')"
   ]
  },
  {
   "cell_type": "markdown",
   "metadata": {},
   "source": [
    "## Split Transcript to Lines and Lines2ids\n",
    "*Not Currently Working*"
   ]
  },
  {
   "cell_type": "code",
   "execution_count": 55,
   "metadata": {},
   "outputs": [],
   "source": [
    "def split_lines(path):\n",
    "    texts = open(path, 'r')\n",
    "    text_list = texts.read().replace('\\n','').replace('|0',' +++$+++ 0').replace('SM001',' +++$+++ SM001')\n",
    "    text_list=text_list.split(' +++$+++ ')\n",
    "    text_list=text_list[1:]\n",
    "    times=text_list\n",
    "    \n",
    "    # Removes the text data, and leave Time Stamps\n",
    "    lines=text_list[0::2]\n",
    "    line2id=text_list[1::2]\n",
    "     \n",
    "    with open('lines.csv', \"w\") as output:\n",
    "        output.write(str(lines))    \n",
    "    with open('line2ids.csv', \"w\") as output:\n",
    "        output.write(str(line2id))"
   ]
  },
  {
   "cell_type": "code",
   "execution_count": 58,
   "metadata": {},
   "outputs": [],
   "source": [
    "split_lines('sm_transcript.txt')"
   ]
  },
  {
   "cell_type": "markdown",
   "metadata": {},
   "source": [
    "## Split Audio Files by Silence"
   ]
  },
  {
   "cell_type": "code",
   "execution_count": 4,
   "metadata": {},
   "outputs": [],
   "source": [
    "# Long Audio File to be Split up\n",
    "voice = AudioSegment.from_file('Steven_Merchant_Wheatly_quotes.wav','wav')"
   ]
  },
  {
   "cell_type": "code",
   "execution_count": 61,
   "metadata": {},
   "outputs": [],
   "source": [
    "chunks = split_on_silence(voice, min_silence_len=350, silence_thresh=-50)\n",
    "for i, chunk in enumerate(chunks):\n",
    "    chunk.export(\"pre_processed/wavs/SM001-0{0}.wav\".format(i), format=\"wav\")"
   ]
  },
  {
   "cell_type": "code",
   "execution_count": null,
   "metadata": {},
   "outputs": [],
   "source": []
  },
  {
   "cell_type": "code",
   "execution_count": null,
   "metadata": {},
   "outputs": [],
   "source": []
  },
  {
   "cell_type": "code",
   "execution_count": null,
   "metadata": {},
   "outputs": [],
   "source": []
  }
 ],
 "metadata": {
  "kernelspec": {
   "display_name": "Python 3",
   "language": "python",
   "name": "python3"
  },
  "language_info": {
   "codemirror_mode": {
    "name": "ipython",
    "version": 3
   },
   "file_extension": ".py",
   "mimetype": "text/x-python",
   "name": "python",
   "nbconvert_exporter": "python",
   "pygments_lexer": "ipython3",
   "version": "3.5.5"
  }
 },
 "nbformat": 4,
 "nbformat_minor": 2
}
